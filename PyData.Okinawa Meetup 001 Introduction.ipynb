{
 "cells": [
  {
   "cell_type": "markdown",
   "metadata": {
    "slideshow": {
     "slide_type": "skip"
    }
   },
   "source": [
    "# プレゼンテーションの始め方\n",
    "\n",
    "ターミナルに以下のコマンドをコピペ。\n",
    "\n",
    "```\n",
    "ipython nbconvert PyData.Okinawa\\ Meetup\\ 001\\ Introduction.ipynb --to slides --post serve --reveal-prefix \"http://cdn.jsdelivr.net/reveal.js/2.6.2\"\n",
    "```\n",
    "\n",
    "```.html``` のすぐ後に以下のコードをコピペ。\n",
    "\n",
    "```\n",
    "?theme=sky?transition=convex\n",
    "```"
   ]
  },
  {
   "cell_type": "markdown",
   "metadata": {
    "collapsed": true,
    "slideshow": {
     "slide_type": "slide"
    }
   },
   "source": [
    "# ようこそPyData.Okinawaへ\n",
    "\n",
    "- Twitter: @PyDataOkinawa (#PyDataOkinawa)\n",
    "- Connpass: http://pydataokinawa.connpass.com/ \n",
    "- HP: http://pydata.okinawa"
   ]
  },
  {
   "cell_type": "markdown",
   "metadata": {
    "slideshow": {
     "slide_type": "slide"
    }
   },
   "source": [
    "# PyData.Okinawaとは？\n",
    "\n",
    "<img src=surfing1.jpg>\n",
    "<div style=\"text-align:center\">\n",
    "Creative Commons BY 2.0: \n",
    "https://www.happytellus.com/gallery.php?img_id=2668\n",
    "</div>"
   ]
  },
  {
   "cell_type": "markdown",
   "metadata": {
    "slideshow": {
     "slide_type": "slide"
    }
   },
   "source": [
    "# PyData.Okinawaとは？\n",
    "\n",
    "<img src=surfing2.jpg>\n",
    "<div style=\"text-align:center\">\n",
    "Creative Commons BY 2.0: http://free-photo.net/archive/entry5175.html\n",
    "<div>"
   ]
  },
  {
   "cell_type": "markdown",
   "metadata": {
    "collapsed": true,
    "slideshow": {
     "slide_type": "slide"
    }
   },
   "source": [
    "# PyData.Okinawaとは?\n",
    "\n",
    "## データから始まる新しい価値を創造するコミュニティ\n",
    "\n",
    "PyData.Okinawa は Python + Data に興味のある方が交流できる沖縄を拠点にしたコミュニティです。**データから新しい価値を生み出したいという想い**があれば、どのようなバックグラウンドを持った方でも自由に参加できるオープンなコミュニティです。沖縄で定期的に開催される勉強会では**Pythonをメインな言語として使いますが**、機械学習やデータアナリティクスに興味を持つ方であれば**どのような言語を使うプログラマの方でも参加可能**です。またハードルは高いかもしれませんが、これからPythonプログラミングを覚えたい初心者の方も大歓迎です。**沖縄県外のコミュニティとも積極的に交流**しながら、次の世代をインスパイアするような**新しい価値**を生み出していくことが**PyData.Okinawaの成功の姿**です。\n",
    "\n",
    "[PyData.Okinawa@connpass](http://pydataokinawa.connpass.com/event/15567/)"
   ]
  },
  {
   "cell_type": "markdown",
   "metadata": {
    "slideshow": {
     "slide_type": "slide"
    }
   },
   "source": [
    "# PyData.Tokyoとは？\n",
    "\n",
    "## Python + Data を通じて Pythonistaと データ分析者が交流するコミュニティ\n",
    "\n",
    "2014年09月に行われたPyConJP 2014での出逢いをきっかけに、PyData.Tokyoは生まれました。\n",
    "\n",
    "PyConJP 2014では、データ分析や機械学習関連の発表に非常に大きな関心が寄せられました。一方で、データの分析・可視化をするために必要な知識や技術について、深く議論できるコミュニティやカンファレンスがあればいいのに、という声も耳にしました。そんな想いに応えるべく誕生したのが、PyData.Tokyoです。\n",
    "\n",
    "PyData.Tokyoは、多様な分野で活躍しているPythonistaとデータ分析者がバランスよく交流できる、Python + Dataをテーマにしたコミュニティです。\n",
    "\n",
    "- [PyData.Tokyo Official HP](https://pydata.tokyo/)\n",
    "- [PyData.Tokyo@connpass](http://pydatatokyo.connpass.com/)\n"
   ]
  },
  {
   "cell_type": "markdown",
   "metadata": {
    "slideshow": {
     "slide_type": "slide"
    }
   },
   "source": [
    "# なぜPyData.Okinawaなのか?\n",
    "\n",
    "- データはこれからどんどん増えていく（IoT、医療、ソーシャルネットワーク、オープンデータ等）（[link](http://jp.techcrunch.com/2015/05/29/20150528free-dollars-and-fifty-free-cents/)）\n",
    "- そのデータから価値を引き出せると面白い（次の世代をインスパイアする新しい価値の創造）\n",
    "- 人とのつながりによる新しい情報や価値観との出会い\n",
    "- PyData.Okinawaは実験的な場\n",
    "- 沖縄県外のコミュニティとの協力体制（PyData.Tokyoなど）\n",
    "- 楽しくなくなったらやめる（コミュニティを維持することが目的ではない）"
   ]
  },
  {
   "cell_type": "markdown",
   "metadata": {
    "slideshow": {
     "slide_type": "slide"
    }
   },
   "source": [
    "# PyData.Okinawaの決まりごと\n",
    "\n",
    "## 日時 \n",
    "\n",
    "* 定期開催（毎月第３土曜日 9:00-12:00）\n",
    "\n",
    "## 参加費用\n",
    "\n",
    "- 1500円\n",
    "- 会場費\n",
    "- 県外のコミュニティから人を呼んだりするため\n",
    "- 飲み代ではない\n",
    "- オーガナイザーも出す\n",
    "\n",
    "## その他\n",
    "\n",
    "- PyData.Okinawaはアウトプット重視（発表・コード・質問などなどクリエイティブにアウトプット）\n",
    "- 聞くことはアウトプットすること。わからなかったらその場ですぐ質問。"
   ]
  },
  {
   "cell_type": "markdown",
   "metadata": {
    "slideshow": {
     "slide_type": "slide"
    }
   },
   "source": [
    "# 自己紹介（ひとり1分ぐらい）\n",
    "\n",
    "* 名前\n",
    "* プロフィール（仕事・肩書きなど）\n",
    "* 参加の動機"
   ]
  },
  {
   "cell_type": "markdown",
   "metadata": {
    "slideshow": {
     "slide_type": "slide"
    }
   },
   "source": [
    "# 斎藤さん（@masakyst）の発表\n",
    "\n",
    "## PyData入門編"
   ]
  }
 ],
 "metadata": {
  "kernelspec": {
   "display_name": "Python 2",
   "language": "python",
   "name": "python2"
  },
  "language_info": {
   "codemirror_mode": {
    "name": "ipython",
    "version": 2
   },
   "file_extension": ".py",
   "mimetype": "text/x-python",
   "name": "python",
   "nbconvert_exporter": "python",
   "pygments_lexer": "ipython2",
   "version": "2.7.9"
  }
 },
 "nbformat": 4,
 "nbformat_minor": 0
}
